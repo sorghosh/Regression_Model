{
 "cells": [
  {
   "cell_type": "code",
   "execution_count": 21,
   "metadata": {},
   "outputs": [],
   "source": [
    "import pandas as pd\n",
    "import numpy  as np\n",
    "import matplotlib.pylab as plt\n"
   ]
  },
  {
   "cell_type": "code",
   "execution_count": 22,
   "metadata": {},
   "outputs": [],
   "source": [
    "class LinearRegression:\n",
    "    \n",
    "    def __init__(self,X,y,iteration,alpha,add_intecept = True):   \n",
    "        self.X             = X\n",
    "        self.y             = y\n",
    "        self.add_intercept = add_intecept\n",
    "        self.iter          = iteration\n",
    "        self.alpha         = alpha\n",
    "        \n",
    "        #adding an intercept column if the add intercept variable is true\n",
    "        if self.add_intercept ==  True:\n",
    "            self.X.insert(0,\"Intercept\",1)\n",
    "        #converting X & Y to matrix form\n",
    "        self.X = np.matrix(self.X)\n",
    "        self.y = np.matrix(self.y).T      \n",
    "        #no of elemements in the dataset         \n",
    "        self.m = len(self.X)       \n",
    "       #intialize the theta or the intercept and slope values\n",
    "        self.theta = np.matrix(np.zeros(shape = self.X.shape[1]))\n",
    "                 \n",
    "    def computecost(self,X,y,theta):\n",
    "        prediction = X * theta.T\n",
    "        error      = np.power((prediction - y),2)\n",
    "        cost       = (np.sum(error))/(2 * self.m)\n",
    "        return cost\n",
    "    \n",
    "    def gradientdecent(self):\n",
    "        cost       = np.zeros(shape = self.iter)\n",
    "        parameters = self.theta.size\n",
    "        \n",
    "        for i in range(self.iter):\n",
    "            prediction = self.X * self.theta.T\n",
    "            error      = prediction - self.y\n",
    "            for p in range(parameters):\n",
    "                temp1      =  np.multiply(error , self.X[:,p])\n",
    "                self.theta[0,p] = self.theta[0,p] - ((self.alpha/self.m) * np.sum(temp1))            \n",
    "            cost[i] = self.computecost(self.X,self.y,self.theta)\n",
    "        return self.theta,cost\n",
    "            \n",
    "    def predict(self,X_Test):\n",
    "\n",
    "#        if self.add_intercept == True:\n",
    "#            X_Test.insert(0,\"Intercept\",1)\n",
    "            \n",
    "        theta,cost = self.gradientdecent()\n",
    "        x_predict  = np.matrix(X_Test) * theta.T\n",
    "        \n",
    "        return x_predict\n",
    "    \n",
    "    def plot_error(self,cost):\n",
    "        fig,ax = plt.subplots(figsize =(12,10))\n",
    "        ax.plot(np.arange(self.iter),cost,\"r\")\n",
    "        ax.set_xlabel(\"Iterations\")\n",
    "        ax.set_ylabel(\"Cost\")\n",
    "        ax.set_title(\"Error vs Training\")\n",
    "        \n",
    "    def model_accuracy(self,y_pred):\n",
    "        #calculate root mean squared error\n",
    "        score =  np.sqrt(np.sum(np.power((self.y - y_pred),2))/self.m)\n",
    "        return score"
   ]
  },
  {
   "cell_type": "code",
   "execution_count": 23,
   "metadata": {},
   "outputs": [],
   "source": [
    "class Preprocessing: \n",
    "    def __init__(self,dataset, feature_normalization = True):        \n",
    "        self.dataset = dataset\n",
    "        self.feature_normalization = feature_normalization\n",
    "    \n",
    "    def normalization(self):\n",
    "        #normailizing the features if the feature_normalization is True\n",
    "        if self.feature_normalization is True:\n",
    "            self.dataset.iloc[:,0:self.dataset.shape[1]-1] = (self.dataset - self.dataset.mean()) /self.dataset.std() \n",
    "        return self.dataset\n",
    "\n",
    "    def data_prep(self,dataset_type):        \n",
    "        dataset = self.normalization()\n",
    "        #converting the dataset into x and y .please keep in mind this code assumes the last column of a given dataset is always the target varaible.\n",
    "        if dataset_type == \"Train\":    \n",
    "            X = dataset.iloc[:,0:dataset.shape[1]-1]\n",
    "            y = dataset.iloc[:,dataset.shape[1]-1]\n",
    "            return X,y\n",
    "        else :\n",
    "            X = dataset.iloc[:,0:dataset.shape[1]-1]\n",
    "            return X\n"
   ]
  },
  {
   "cell_type": "code",
   "execution_count": 24,
   "metadata": {},
   "outputs": [
    {
     "name": "stdout",
     "output_type": "stream",
     "text": [
      "Coff Value  [[340412.65887981 110620.41779752  -6638.8417895 ]]\n",
      "63926.209011484025\n"
     ]
    },
    {
     "data": {
      "image/png": "[encoded data removed]",
      "text/plain": [
       "<Figure size 864x720 with 1 Axes>"
      ]
     },
     "metadata": {},
     "output_type": "display_data"
    }
   ],
   "source": [
    "#reading training and test dataset \n",
    "training_dataset         = pd.read_csv(r\"C:\\Users\\saughosh\\Desktop\\IMS\\Course\\DS3\\6.Machine Learning\\Algo\\Regression\\Regression_Algo\\DataSet\\Training_DataSet.csv\")\n",
    "dataset_type_train = \"Train\"\n",
    "dataset_type_test  = \"Test\"\n",
    "#intialize parameters for linear regression model\n",
    "add_intercept         = True   #add_intecept can take only two values : True or False\n",
    "feature_normalization = True   #feature normalization can take only two values : True or False\n",
    "iteration             = 10000\n",
    "alpha                 = 0.001\n",
    "\n",
    "#create an instance of an class which can be used for performing preprocessing of the dataset\n",
    "obj                   = Preprocessing(training_dataset,feature_normalization)\n",
    "x_train,y_train       = obj.data_prep(dataset_type_train)\n",
    "\n",
    "#create an instance of the class linear regression which will be used for prediction\n",
    "obj1                  = LinearRegression(x_train,y_train,iteration,alpha,add_intercept)\n",
    "theta, cost           = obj1.gradientdecent()\n",
    "predictedvalue        = obj1.predict(x_train)\n",
    "obj1.plot_error(cost)\n",
    "print (\"Coff Value \", theta)\n",
    "print (obj1.model_accuracy(predictedvalue))"
   ]
  },
  {
   "cell_type": "code",
   "execution_count": 25,
   "metadata": {},
   "outputs": [],
   "source": [
    "from sklearn.linear_model import LinearRegression\n",
    "from sklearn import metrics\n",
    "import numpy as np\n",
    "\n",
    "y  = training_dataset.pop(\"Price\")\n",
    "X  = training_dataset\n"
   ]
  },
  {
   "cell_type": "code",
   "execution_count": 36,
   "metadata": {},
   "outputs": [
    {
     "name": "stdout",
     "output_type": "stream",
     "text": [
      "coff [340412.6595744681, 110631.0502788461, -6649.474270819794]\n",
      "rmse 63926.20824986928\n"
     ]
    }
   ],
   "source": [
    "reg = LinearRegression()\n",
    "reg.fit(X,y)\n",
    "pred = reg.predict(X)\n",
    "mse  = metrics.mean_squared_error(y_pred = pred , y_true = y)\n",
    "rmse = np.sqrt(mse)\n",
    "coff = list(reg.coef_)\n",
    "coff.insert(0,reg.intercept_)\n",
    "print(\"coff\", coff)\n",
    "print (\"rmse\", rmse)"
   ]
  }
 ],
 "metadata": {
  "kernelspec": {
   "display_name": "Python 3",
   "language": "python",
   "name": "python3"
  },
  "language_info": {
   "codemirror_mode": {
    "name": "ipython",
    "version": 3
   },
   "file_extension": ".py",
   "mimetype": "text/x-python",
   "name": "python",
   "nbconvert_exporter": "python",
   "pygments_lexer": "ipython3",
   "version": "3.6.5"
  }
 },
 "nbformat": 4,
 "nbformat_minor": 2
}
